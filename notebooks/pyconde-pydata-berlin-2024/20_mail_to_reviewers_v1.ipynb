{
 "cells": [
  {
   "cell_type": "code",
   "execution_count": null,
   "metadata": {
    "tags": []
   },
   "outputs": [],
   "source": [
    "import os\n",
    "import sys\n",
    "import math\n",
    "import logging\n",
    "import structlog\n",
    "from pathlib import Path\n",
    "import json\n",
    "\n",
    "import tomli\n",
    "import numpy as np\n",
    "\n",
    "%load_ext autoreload\n",
    "%autoreload 2\n",
    "\n",
    "import matplotlib as mpl\n",
    "import matplotlib.pyplot as plt\n",
    "%matplotlib inline\n",
    "%config InlineBackend.figure_format = 'retina'\n",
    "\n",
    "import seaborn as sns\n",
    "sns.set_context(\"poster\")\n",
    "sns.set(rc={\"figure.figsize\": (16, 9.)})\n",
    "sns.set_style(\"whitegrid\")\n",
    "\n",
    "import pandas as pd\n",
    "pd.set_option(\"display.max_rows\", 120)\n",
    "pd.set_option(\"display.max_columns\", 120)"
   ]
  },
  {
   "cell_type": "code",
   "execution_count": null,
   "metadata": {},
   "outputs": [],
   "source": [
    "logging.basicConfig(level=logging.WARNING, stream=sys.stdout)"
   ]
  },
  {
   "cell_type": "code",
   "execution_count": null,
   "metadata": {},
   "outputs": [],
   "source": [
    "import pytanis\n",
    "from pytanis import GSheetClient, PretalxClient, HelpDeskClient\n",
    "from pytanis.review import Col\n",
    "from pytanis.helpdesk import Mail, Recipient, MailClient"
   ]
  },
  {
   "cell_type": "code",
   "execution_count": null,
   "metadata": {},
   "outputs": [],
   "source": [
    "# Be aware that this notebook might only run with the following version\n",
    "pytanis.__version__ "
   ]
  },
  {
   "cell_type": "code",
   "execution_count": null,
   "metadata": {},
   "outputs": [],
   "source": [
    "# Import event-specific settings to don't have them here in the notebook\n",
    "with open('config.toml', 'rb') as fh:\n",
    "    cfg = tomli.load(fh)"
   ]
  },
  {
   "cell_type": "markdown",
   "metadata": {},
   "source": [
    "# Get all the Reviewers"
   ]
  },
  {
   "cell_type": "code",
   "execution_count": null,
   "metadata": {},
   "outputs": [],
   "source": [
    "gsheet_client = GSheetClient()\n",
    "gsheet_df = gsheet_client.gsheet_as_df(cfg['reviewer_spread_id'], cfg['reviewer_work_name'])\n",
    "# rename columns to stick to our convention\n",
    "col_map = {\n",
    " \"Topics you want to review\": Col.track_prefs,\n",
    " \"Email address\": Col.email,\n",
    " \"Name\": Col.speaker_name,\n",
    " \"Affiliation\": Col.affiliation,\n",
    " \"Who do you know from the Committee?\": Col.committee_contact,\n",
    " \"Availability during the Review Period\": Col.availability,\n",
    " \"Additional comments regarding your availability during the review period.\": Col.availability_comment,\n",
    " \"Activated in Pretalx\": Col.pretalx_activated,\n",
    " \"Do you want your name to be listed as a reviewer on the conference website?\": Col.public,\n",
    " \"Wants all proposals\": Col.all_proposals,\n",
    " \"Any additional comments for the Program Committee\": Col.comment,\n",
    " \"Committee Member\": Col.committee_member\n",
    "}\n",
    "gsheet_df.rename(columns=col_map, inplace=True)"
   ]
  },
  {
   "cell_type": "code",
   "execution_count": null,
   "metadata": {},
   "outputs": [],
   "source": [
    "# add column to address people nicely\n",
    "gsheet_df[Col.address_as] = gsheet_df[Col.speaker_name].apply(lambda x: x.split()[0].title())"
   ]
  },
  {
   "cell_type": "code",
   "execution_count": null,
   "metadata": {},
   "outputs": [],
   "source": [
    "reviewers_all = gsheet_df[[Col.speaker_name, Col.email, Col.address_as]]\n",
    "reviewers_all = reviewers_all.apply(lambda x: Recipient(name=x[Col.speaker_name], email=x[Col.email], address_as=x[Col.address_as]), axis=1).to_list()"
   ]
  },
  {
   "cell_type": "code",
   "execution_count": null,
   "metadata": {},
   "outputs": [],
   "source": [
    "# determine reviewers having not even activated the Pretalx Acccount as well as non Committee members and mark them as recipients\n",
    "reviewers_not_activated = gsheet_df.loc[gsheet_df[Col.pretalx_activated].isna() & gsheet_df[Col.committee_member].isna(), [Col.speaker_name, Col.email, Col.address_as]]\n",
    "reviewers_not_activated = reviewers_not_activated.apply(lambda x: Recipient(name=x[Col.speaker_name], email=x[Col.email], address_as=x[Col.address_as]), axis=1).to_list()"
   ]
  },
  {
   "cell_type": "code",
   "execution_count": null,
   "metadata": {},
   "outputs": [],
   "source": [
    "# for activated reviewers we take the e-mail address of their pretalx account\n",
    "reviewers_activated = gsheet_df.loc[gsheet_df[Col.pretalx_activated].notnull() & gsheet_df[Col.committee_member].isna(), [Col.speaker_name, 'Pretalx Mail', Col.address_as]]\n",
    "reviewers_activated = reviewers_activated.apply(lambda x: Recipient(name=x[Col.speaker_name], email=x['Pretalx Mail'], address_as=x[Col.address_as]), axis=1).to_list()"
   ]
  },
  {
   "cell_type": "markdown",
   "metadata": {},
   "source": [
    "# Initial Mail to Reviewers for Onboarding"
   ]
  },
  {
   "cell_type": "code",
   "execution_count": null,
   "metadata": {},
   "outputs": [],
   "source": [
    "mail_body = \"\"\"\n",
    "Hi {recipient.address_as}!\n",
    "\n",
    "I hope this message finds you well. As the Chair of the Programme Committee for PyConDE & PyData,\n",
    "it's my pleasure to welcome you to our team. Your contribution is vital to the success of our upcoming event.\n",
    "\n",
    "Today, you should have received an invitation from noreply@pretalx.com to join Pretalx, our platform for\n",
    "managing conference submissions. Please follow the link in the email to activate your account and\n",
    "ensure you keep your login credentials safe.\n",
    "\n",
    "We will be sending out more detailed information and guidelines in the new year.\n",
    "In the meantime, if you encounter any issues signing up or have any questions,\n",
    "feel free to reach out to us at program24@pycon.de.\n",
    "\n",
    "Until then, I wish you a joyful Christmas season and a fantastic start to the New Year!\n",
    "\n",
    "Warm regards,\n",
    "\n",
    "Florian Wilhelm\n",
    "Program Committee Chair\n",
    "PyCon DE & PyData Berlin 2024\n",
    "\"\"\""
   ]
  },
  {
   "cell_type": "code",
   "execution_count": null,
   "metadata": {},
   "outputs": [],
   "source": [
    "mail = Mail(\n",
    "    subject=\"Welcome to PyConDE & PyData 2024 Review Team - Important Account Activation Information\",\n",
    "    text=mail_body,\n",
    "    team_id=cfg[\"team_id\"],\n",
    "    agent_id=cfg[\"agent_id\"],\n",
    "    status=\"solved\",\n",
    "    recipients=reviewers_not_activated\n",
    ")"
   ]
  },
  {
   "cell_type": "code",
   "execution_count": null,
   "metadata": {},
   "outputs": [],
   "source": [
    "mail_client = MailClient()\n",
    "responses, errors = mail_client.send(mail, dry_run=True)\n",
    "assert not errors"
   ]
  },
  {
   "cell_type": "markdown",
   "metadata": {},
   "source": [
    "# Mail to Reviewers that haven't activated their account in Pretalx"
   ]
  },
  {
   "cell_type": "code",
   "execution_count": null,
   "metadata": {},
   "outputs": [],
   "source": [
    "mail_body = \"\"\"\n",
    "Hi {recipient.address_as} and welcome to the PyConDE / PyData 2024 review team!\n",
    "\n",
    "I hope this message finds you well. As the Chair of the Programme Committee for PyConDE & PyData,\n",
    "it's my pleasure to welcome you to our team. Your contribution is vital to the success of our upcoming event.\n",
    "\n",
    "In the last few days, you should have received an invitation from noreply@pretalx.com to join Pretalx, our platform for\n",
    "managing conference submissions. Have you checked your SPAM folder yet as it seems you haven't activated your\n",
    "Pretalx Account for reviewing. Please follow the link in the Pretalx email to activate your account and ensure you keep\n",
    "your login credentials safe. PLEASE DO THIS NOW :-)\n",
    "\n",
    "We will be sending out more detailed information and guidelines in the new year.\n",
    "In the meantime, if you encounter any issues signing up, can't find the Pretalx email or have any questions,\n",
    "feel free to reach out to us at program24@pycon.de.\n",
    "\n",
    "All the best,\n",
    "Program Committee\n",
    "PyCon DE & PyData Berlin 2024\n",
    "\"\"\""
   ]
  },
  {
   "cell_type": "code",
   "execution_count": null,
   "metadata": {},
   "outputs": [],
   "source": [
    "mail = Mail(\n",
    "    subject=\"Important! Please activate your Pretalx Account for PyConDE & PyData 2024\",\n",
    "    text=mail_body,\n",
    "    team_id=cfg[\"team_id\"],\n",
    "    agent_id=cfg[\"agent_id\"],\n",
    "    status=\"solved\",\n",
    "    recipients=reviewers_not_activated\n",
    ")"
   ]
  },
  {
   "cell_type": "code",
   "execution_count": null,
   "metadata": {},
   "outputs": [],
   "source": [
    "mail_client = MailClient()\n",
    "responses, errors = mail_client.send(mail, dry_run=True)\n",
    "assert not errors"
   ]
  },
  {
   "cell_type": "markdown",
   "metadata": {},
   "source": [
    "## Mail regarding the Review Onboarding"
   ]
  },
  {
   "cell_type": "code",
   "execution_count": null,
   "metadata": {},
   "outputs": [],
   "source": [
    "mail_body = \"\"\"\n",
    "Hi {recipient.address_as},\n",
    "\n",
    "the end of the year 2023 is near and we are all excited about what's to come in 2024.\n",
    "The Programme Committee is doing right now the final preparations to organise the review process.\n",
    "\n",
    "We have just updated our Reviewer Guidelines (link below) for you to read before the actual review\n",
    "process will start on Monday, 9th of January and the deadline is Wednesday, 31st of January Midnight.\n",
    "To meet your fellow reviewers, have a nice chat, talk to the programme committee and ask questions\n",
    "personally, we also offer two non-mandatory Get Togethers on the 4th & 11th of January (details below).\n",
    "\n",
    "If you have any questions, need help, don't hesitate contacting us at program24@pycon.de.\n",
    "We appreciate your help very much and want to make sure that you are having a good time.\n",
    "\n",
    "Thank you very much {recipient.address_as} for your support!\n",
    "\n",
    "Summary:\n",
    "* Review period: 9. January 2024 - 31 January, 00:00 CET\n",
    "* Pretalx: https://pretalx.com/orga/event/pyconde-pydata-2024/reviews/\n",
    "* Reviewer Guidelines (http://bit.ly/pyconde24-reviewer-guidelines)\n",
    "* [Nonobligatory] PyCon 2024 - Reviewer's Get Together, Meet & Greet and your Questions:\n",
    "  - Thursday, 4. January 2024 · 5:00 bis 5:40PM CET, video call: https://meet.google.com/zsn-avdq-yhy\n",
    "  - Thursday, 11. January 2024 · 5:00 bis 5:40PM CET, video call: https://meet.google.com/zsn-avdq-yhy\n",
    "* Contact program24@pycon.de for support if needed\n",
    "\n",
    "IMPORTANT: If you haven't signed up on Pretalx yet, please search for a mail from `noreply@pretalx.com`\n",
    "           in your mailbox, also SPAM folder and confirm it. It's necessary for our assignment of proposals for review.\n",
    "\n",
    "\n",
    "All the best,\n",
    "Program Committee\n",
    "PyCon DE & PyData Berlin 2024\n",
    "\"\"\""
   ]
  },
  {
   "cell_type": "code",
   "execution_count": null,
   "metadata": {},
   "outputs": [],
   "source": [
    "mail = Mail(\n",
    "    subject=\"[PyConDE/PyData 2024] Information about the Review Process in 2024\",\n",
    "    text=mail_body,\n",
    "    team_id=cfg[\"team_id\"],\n",
    "    agent_id=cfg[\"agent_id\"],\n",
    "    status=\"solved\",\n",
    "    recipients=reviewers_all\n",
    ")"
   ]
  },
  {
   "cell_type": "code",
   "execution_count": null,
   "metadata": {},
   "outputs": [],
   "source": [
    "mail_client = MailClient()\n",
    "responses, errors = mail_client.send(mail, dry_run=True)\n",
    "assert not errors"
   ]
  },
  {
   "cell_type": "markdown",
   "metadata": {},
   "source": [
    "## Mail regarding the Review Onboarding 2 only to activated reviewers"
   ]
  },
  {
   "cell_type": "code",
   "execution_count": null,
   "metadata": {},
   "outputs": [],
   "source": [
    "mail_body = \"\"\"\n",
    "Hi {recipient.address_as},\n",
    "\n",
    "we hope you had a great holiday season, after all you were nice and activated your Pretalx account,\n",
    "so Santa must have been generous with you ;-) One last bit of information about the review process for\n",
    "this year. More to come in 2024...\n",
    "\n",
    "We just assigned every reviewer initially 10 proposals so that you have a chance to familiarize yourself with\n",
    "Pretalx before the Reviewer's Get Together dates (see below) to ask questions. It's *not* mandatory to participate\n",
    "and the official review phase will start on January 9th in 2024. So this is just a tidbit of what's to come in 2024.\n",
    "\n",
    "See you next year and thank you very much {recipient.address_as} for your support!\n",
    "\n",
    "Summary:\n",
    "* Review period: 9. January 2024 - 31 January, 00:00 CET\n",
    "* Pretalx: https://pretalx.com/orga/event/pyconde-pydata-2024/reviews/\n",
    "* Reviewer Guidelines (http://bit.ly/pyconde24-reviewer-guidelines)\n",
    "* [Nonobligatory] PyCon 2024 - Reviewer's Get Together, Meet & Greet and your Questions:\n",
    "  - Thursday, 4. January 2024 · 5:00 bis 5:40PM CET, video call: https://meet.google.com/zsn-avdq-yhy\n",
    "  - Thursday, 11. January 2024 · 5:00 bis 5:40PM CET, video call: https://meet.google.com/zsn-avdq-yhy\n",
    "* Contact program24@pycon.de for support if needed\n",
    "\n",
    "All the best,\n",
    "Program Committee\n",
    "PyCon DE & PyData Berlin 2024\n",
    "\"\"\""
   ]
  },
  {
   "cell_type": "code",
   "execution_count": null,
   "metadata": {},
   "outputs": [],
   "source": [
    "mail = Mail(\n",
    "    subject=\"[PyConDE/PyData 2024] One more thing about the Review Process in 2024\",\n",
    "    text=mail_body,\n",
    "    team_id=cfg[\"team_id\"],\n",
    "    agent_id=cfg[\"agent_id\"],\n",
    "    status=\"solved\",\n",
    "    recipients=reviewers_activated[53:]\n",
    ")"
   ]
  },
  {
   "cell_type": "code",
   "execution_count": null,
   "metadata": {},
   "outputs": [],
   "source": [
    "reviewers_activated[53:]"
   ]
  },
  {
   "cell_type": "code",
   "execution_count": null,
   "metadata": {},
   "outputs": [],
   "source": [
    "mail_client = MailClient()\n",
    "responses, errors = mail_client.send(mail, dry_run=False)\n",
    "assert not errors"
   ]
  },
  {
   "cell_type": "markdown",
   "metadata": {},
   "source": [
    "# Mail to Reviewers activated in Pretalx"
   ]
  },
  {
   "cell_type": "markdown",
   "metadata": {},
   "source": [
    "## Mail regarding the Review Onboarding"
   ]
  },
  {
   "cell_type": "code",
   "execution_count": null,
   "metadata": {},
   "outputs": [],
   "source": [
    "mail_body = \"\"\"\n",
    "Hi {recipient.address_as},\n",
    "\n",
    "the end of the year 2023 is near and we are all excited about what's to come in 2024.\n",
    "The Programme Committee is doing right now the final preparations to organise the review process.\n",
    "\n",
    "We have just updated our Reviewer Guidelines (link below) for you to read before the actual review\n",
    "process will start on Monday, 9th of January and the deadline is Wednesday, 31st of January Midnight.\n",
    "To meet your fellow reviewers, have a nice chat, talk to the programme committee and ask questions\n",
    "personally, we also offer two non-mandatory Get Togethers on the 4th & 11th of January (details below).\n",
    "\n",
    "If you have any questions, need help, don't hesitate contacting us at program24@pycon.de.\n",
    "We appreciate your help very much and want to make sure that you are having a good time.\n",
    "\n",
    "Thank you very much {recipient.address_as} for your support!\n",
    "\n",
    "Summary:\n",
    "* Review period: 9. January 2024 - 31 January, 00:00 CET\n",
    "* Pretalx: https://pretalx.com/orga/event/pyconde-pydata-2024/reviews/\n",
    "* Reviewer Guidelines (http://bit.ly/pyconde24-reviewer-guidelines)\n",
    "* [Nonobligatory] PyCon 2024 - Reviewer's Get Together, Meet & Greet and your Questions:\n",
    "  - Thursday, 4. January 2024 · 5:00 bis 5:40PM CET, video call: https://meet.google.com/zsn-avdq-yhy\n",
    "  - Thursday, 11. January 2024 · 5:00 bis 5:40PM CET, video call: https://meet.google.com/zsn-avdq-yhy\n",
    "* Contact program24@pycon.de for support if needed\n",
    "\n",
    "IMPORTANT: If you haven't signed up on Pretalx yet, please search for a mail from `noreply@pretalx.com`\n",
    "           in your mailbox, also SPAM folder and confirm it. It's necessary for our assignment of proposals for review.\n",
    "\n",
    "\n",
    "All the best,\n",
    "Program Committee\n",
    "PyCon DE & PyData Berlin 2024\n",
    "\"\"\""
   ]
  },
  {
   "cell_type": "code",
   "execution_count": null,
   "metadata": {},
   "outputs": [],
   "source": [
    "mail = Mail(\n",
    "    subject=\"[PyConDE/PyData 2024] Information about the Review Process in 2024\",\n",
    "    text=mail_body,\n",
    "    team_id=cfg[\"team_id\"],\n",
    "    agent_id=cfg[\"agent_id\"],\n",
    "    status=\"solved\",\n",
    "    recipients=reviewers\n",
    ")"
   ]
  },
  {
   "cell_type": "code",
   "execution_count": null,
   "metadata": {},
   "outputs": [],
   "source": [
    "mail_client = MailClient()\n",
    "responses, errors = mail_client.send(mail, dry_run=True)\n",
    "assert not errors"
   ]
  },
  {
   "cell_type": "code",
   "execution_count": null,
   "metadata": {},
   "outputs": [],
   "source": []
  },
  {
   "cell_type": "code",
   "execution_count": null,
   "metadata": {},
   "outputs": [],
   "source": [
    "errors"
   ]
  },
  {
   "cell_type": "code",
   "execution_count": null,
   "metadata": {},
   "outputs": [],
   "source": [
    "activated_reviewers = gsheet_df.loc[~gsheet_df[Col.pretalx_activated].isna()]"
   ]
  },
  {
   "cell_type": "markdown",
   "metadata": {},
   "source": [
    "### Analyse the current reviews and determine top X% reviewers"
   ]
  },
  {
   "cell_type": "code",
   "execution_count": null,
   "metadata": {},
   "outputs": [],
   "source": [
    "pretalx_client = PretalxClient()\n",
    "n_reviews, reviews = pretalx_client.reviews(cfg['event_name'])\n",
    "reviews = list(reviews)"
   ]
  },
  {
   "cell_type": "code",
   "execution_count": null,
   "metadata": {
    "tags": []
   },
   "outputs": [],
   "source": [
    "scored_reviews_df = pd.DataFrame([{\"user\": r.user, \"score\": r.score, \"n_reviews\": r.submission} for r in reviews if r.score is not None])\n",
    "scored_reviews_df = scored_reviews_df.groupby(\"user\").count()[[\"n_reviews\"]]\n",
    "scored_reviews_df['top_perc'] =  (1. - scored_reviews_df.rank(pct=True)[\"n_reviews\"])\n",
    "\n",
    "def top_perc_text(perc):\n",
    "    if perc <= 0.1:\n",
    "        return \"top 10%\"\n",
    "    elif perc <= 0.25: \n",
    "        return \"top 25%\"\n",
    "    elif perc <= 0.5: \n",
    "        return \"top 50%\"\n",
    "    elif perc <= 0.75: \n",
    "        return \"top 75%\"\n",
    "    elif perc <= 0.90: \n",
    "        return \"top 90%\"\n",
    "    else:\n",
    "        return \"top 100% ;-)\"\n",
    "\n",
    "scored_reviews_df['top_perc_text'] = scored_reviews_df['top_perc'].apply(top_perc_text)"
   ]
  },
  {
   "cell_type": "markdown",
   "metadata": {},
   "source": [
    "### Merge back with all reviewers and generate a nice feedback message"
   ]
  },
  {
   "cell_type": "code",
   "execution_count": null,
   "metadata": {},
   "outputs": [],
   "source": [
    "activated_reviewers = pd.merge(activated_reviewers, scored_reviews_df, right_on='user', left_on='Pretalx Name', how='left')\n",
    "activated_reviewers[\"n_reviews\"].fillna(0., inplace=True)"
   ]
  },
  {
   "cell_type": "code",
   "execution_count": null,
   "metadata": {},
   "outputs": [],
   "source": [
    "def get_feedback(x):\n",
    "    if x['n_reviews'] == 0.:\n",
    "        return \"So far you haven't reviewed any proposals, it's time to get started!\"\n",
    "    else:\n",
    "        return f\"Thanks for having already started to reviews! You are a champion and currently in the {x['top_perc_text']} of all reviewers!\"\n",
    "\n",
    "activated_reviewers[\"feedback\"] = activated_reviewers.apply(get_feedback, axis=1)"
   ]
  },
  {
   "cell_type": "markdown",
   "metadata": {},
   "source": [
    "### Create and send an individual e-mail to each active reviewer"
   ]
  },
  {
   "cell_type": "code",
   "execution_count": null,
   "metadata": {},
   "outputs": [],
   "source": [
    "active_recipients = activated_reviewers.apply(lambda x: Recipient(name=x[Col.speaker_name], \n",
    "                                                                  email=x[Col.email], \n",
    "                                                                  address_as=x[Col.address_as], \n",
    "                                                                  data={\"feedback\": x[\"feedback\"]}),  axis=1).to_list()"
   ]
  },
  {
   "cell_type": "code",
   "execution_count": null,
   "metadata": {},
   "outputs": [],
   "source": [
    "mail_body = \"\"\"\n",
    "Hi {recipient.address_as}!\n",
    "\n",
    "The review of proposals for the PyConDE / PyData is already in full swing and we are happy to have you on board!\n",
    "{recipient.data.feedback}\n",
    "\n",
    "Please check back frequently into Pretalx as we will soon assign proposals more dynamically. \n",
    "PyConDE / PyData is completely community driven by volunteers like you and we highly appreciate your support!\n",
    "We will keep you updated.\n",
    "\n",
    "Information from our past e-mails:\n",
    "* Reviewer Guidelines (https://bit.ly/pyconde23-reviewer-guidelines)\n",
    "* [Nonobligatory] 2nd live “Meet and Greet” session: 17 January, 17:00 (CET) in Gather Town (https://bit.ly/pyconde23-meet-reviewers)\n",
    "* Review to be finished by: 31 January, 00:00 (CET)\n",
    "* Contact program23@pycon.de for support if needed\n",
    "\n",
    "Thank you very much {recipient.address_as} for your support!\n",
    "\n",
    "\n",
    "All the best,\n",
    "Program Committee\n",
    "PyCon DE & PyData Berlin 2023\n",
    "\"\"\""
   ]
  },
  {
   "cell_type": "code",
   "execution_count": null,
   "metadata": {},
   "outputs": [],
   "source": [
    "mail = Mail(\n",
    "    subject=\"Update for you on the review process for PyCon DE / PyData!\",\n",
    "    text=mail_body,\n",
    "    team_id=cfg[\"team_id\"],\n",
    "    agent_id=cfg[\"agent_id\"],\n",
    "    status=\"solved\",\n",
    "    recipients=active_recipients\n",
    ")"
   ]
  },
  {
   "cell_type": "code",
   "execution_count": null,
   "metadata": {},
   "outputs": [],
   "source": [
    "responses, errors = mail_client.send(mail, dry_run=DRY_RUN)\n",
    "assert not errors"
   ]
  },
  {
   "cell_type": "markdown",
   "metadata": {},
   "source": [
    "## Mail about first reviews and Meet & Greet Sessions"
   ]
  },
  {
   "cell_type": "code",
   "execution_count": null,
   "metadata": {},
   "outputs": [],
   "source": [
    "mail_body = \"\"\"\n",
    "Hi {recipient.address_as}!\n",
    "\n",
    "The review of proposals for the PyConDE / PyData is already in full swing and we are happy to have you on board!\n",
    "{recipient.data.feedback}\n",
    "\n",
    "Please check back frequently into Pretalx as we will soon assign proposals more dynamically. \n",
    "PyConDE / PyData is completely community driven by volunteers like you and we highly appreciate your support!\n",
    "We will keep you updated.\n",
    "\n",
    "Information from our past e-mails:\n",
    "* Reviewer Guidelines (https://bit.ly/pyconde23-reviewer-guidelines)\n",
    "* [Nonobligatory] 2nd live “Meet and Greet” session: 17 January, 17:00 (CET) in Gather Town (https://bit.ly/pyconde23-meet-reviewers)\n",
    "* Review to be finished by: 31 January, 00:00 (CET)\n",
    "* Contact program23@pycon.de for support if needed\n",
    "\n",
    "Thank you very much {recipient.address_as} for your support!\n",
    "\n",
    "\n",
    "All the best,\n",
    "Program Committee\n",
    "PyCon DE & PyData Berlin 2023\n",
    "\"\"\""
   ]
  },
  {
   "cell_type": "code",
   "execution_count": null,
   "metadata": {},
   "outputs": [],
   "source": [
    "mail = Mail(\n",
    "    subject=\"Update for you on the review process for PyCon DE / PyData!\",\n",
    "    text=mail_body,\n",
    "    team_id=cfg[\"team_id\"],\n",
    "    agent_id=cfg[\"agent_id\"],\n",
    "    status=\"solved\",\n",
    "    recipients=active_recipients\n",
    ")"
   ]
  },
  {
   "cell_type": "code",
   "execution_count": null,
   "metadata": {},
   "outputs": [],
   "source": [
    "responses, errors = mail_client.send(mail, dry_run=DRY_RUN)\n",
    "assert not errors"
   ]
  },
  {
   "cell_type": "markdown",
   "metadata": {},
   "source": [
    "## Reminder e-mail to everyone activated"
   ]
  },
  {
   "cell_type": "code",
   "execution_count": null,
   "metadata": {},
   "outputs": [],
   "source": [
    "def get_feedback(x):\n",
    "    if x['n_reviews'] == 0.:\n",
    "        return \"So far you haven't reviewed any proposals, it seems. Now it's really time to get started :-)\\nPlease let us know if you are not able to review for some reason. In this case, we must assign your proposals to others soon.\"\n",
    "    else:\n",
    "        return f\"Thanks that you already supported us so much! We are close to the finish line. Go for it, champion!\"\n",
    "\n",
    "activated_reviewers[\"feedback\"] = activated_reviewers.apply(get_feedback, axis=1)"
   ]
  },
  {
   "cell_type": "code",
   "execution_count": null,
   "metadata": {},
   "outputs": [],
   "source": [
    "active_recipients = activated_reviewers.apply(lambda x: Recipient(name=x[Col.speaker_name], \n",
    "                                                                  email=x[Col.email], \n",
    "                                                                  address_as=x[Col.address_as], \n",
    "                                                                  data={\"feedback\": x[\"feedback\"]}),  axis=1).to_list()"
   ]
  },
  {
   "cell_type": "code",
   "execution_count": null,
   "metadata": {},
   "outputs": [],
   "source": [
    "mail_body = \"\"\"\n",
    "Hi {recipient.address_as}!\n",
    "\n",
    "We hope you had a great start into the new week :-)\n",
    "There are only 8 days left until the deadline of our review process on 31 January, 00:00 (CET). \n",
    "We have reached now 70% of all the reviews we need, that's awesome! But still a few miles to go for us.\n",
    "{recipient.data.feedback}\n",
    "\n",
    "Please check back frequently into Pretalx as there might be only a few more proposals in case reviewers dropped out.\n",
    "PyConDE / PyData is completely community driven by volunteers like you and we highly appreciate your support!\n",
    "We will keep you updated.\n",
    "\n",
    "Information from our past e-mails:\n",
    "* Reviewer Guidelines (https://bit.ly/pyconde23-reviewer-guidelines)\n",
    "* Contact program23@pycon.de for support if needed\n",
    "\n",
    "Thank you very much {recipient.address_as} for your support!\n",
    "\n",
    "\n",
    "All the best,\n",
    "Program Committee\n",
    "PyCon DE & PyData Berlin 2023\n",
    "\"\"\""
   ]
  },
  {
   "cell_type": "code",
   "execution_count": null,
   "metadata": {},
   "outputs": [],
   "source": [
    "mail = Mail(\n",
    "    subject=\"Reminder: deadline of the review process for PyCon DE / PyData is coming closer!\",\n",
    "    text=mail_body,\n",
    "    team_id=cfg[\"team_id\"],\n",
    "    agent_id=cfg[\"agent_id\"],\n",
    "    status=\"solved\",\n",
    "    recipients=active_recipients\n",
    ")"
   ]
  },
  {
   "cell_type": "code",
   "execution_count": null,
   "metadata": {},
   "outputs": [],
   "source": [
    "responses, errors = mail_client.send(mail, dry_run=DRY_RUN)\n",
    "assert not errors"
   ]
  }
 ],
 "metadata": {
  "kernelspec": {
   "display_name": "Python 3 (ipykernel)",
   "language": "python",
   "name": "python3"
  },
  "language_info": {
   "codemirror_mode": {
    "name": "ipython",
    "version": 3
   },
   "file_extension": ".py",
   "mimetype": "text/x-python",
   "name": "python",
   "nbconvert_exporter": "python",
   "pygments_lexer": "ipython3",
   "version": "3.10.9"
  },
  "pycharm": {
   "stem_cell": {
    "cell_type": "raw",
    "metadata": {
     "collapsed": false
    },
    "source": []
   }
  }
 },
 "nbformat": 4,
 "nbformat_minor": 4
}
