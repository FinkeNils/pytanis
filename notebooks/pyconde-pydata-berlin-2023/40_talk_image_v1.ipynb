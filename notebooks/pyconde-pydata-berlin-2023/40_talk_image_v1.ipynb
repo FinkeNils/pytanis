{
 "cells": [
  {
   "cell_type": "code",
   "execution_count": null,
   "metadata": {
    "tags": []
   },
   "outputs": [],
   "source": [
    "# make sure pillow is installed\n",
    "!pip install Pillow\n"
   ]
  },
  {
   "cell_type": "code",
   "execution_count": null,
   "metadata": {
    "tags": []
   },
   "outputs": [],
   "source": [
    "import PIL\n",
    "PIL.__version__"
   ]
  },
  {
   "cell_type": "code",
   "execution_count": null,
   "metadata": {},
   "outputs": [],
   "source": [
    "import pytanis\n",
    "# Be aware that this notebook might only run with the following version\n",
    "pytanis.__version__"
   ]
  },
  {
   "cell_type": "code",
   "execution_count": null,
   "metadata": {
    "tags": []
   },
   "outputs": [],
   "source": [
    "import pandas as pd\n",
    "import seaborn as sns\n",
    "import matplotlib.pyplot as plt\n",
    "import matplotlib as mpl\n",
    "import os\n",
    "import sys\n",
    "import math\n",
    "import logging\n",
    "import structlog\n",
    "import tomli\n",
    "from pathlib import Path\n",
    "\n",
    "import numpy as np\n",
    "\n",
    "%load_ext autoreload\n",
    "%autoreload 2\n",
    "\n",
    "%matplotlib inline\n",
    "%config InlineBackend.figure_format = 'retina'\n",
    "\n",
    "sns.set_context(\"poster\")\n",
    "sns.set(rc={\"figure.figsize\": (16, 9.)})\n",
    "sns.set_style(\"whitegrid\")\n",
    "\n",
    "pd.set_option(\"display.max_rows\", 120)\n",
    "pd.set_option(\"display.max_columns\", 120)\n"
   ]
  },
  {
   "cell_type": "code",
   "execution_count": null,
   "metadata": {
    "tags": []
   },
   "outputs": [],
   "source": [
    "# Set the logging level\n",
    "logging.basicConfig(level=logging.WARNING, stream=sys.stdout)\n",
    "\n",
    "# Import event-specific settings to don't have them here in the notebook\n",
    "with open('config.toml', 'rb') as fh:\n",
    "    cfg = tomli.load(fh)"
   ]
  },
  {
   "cell_type": "code",
   "execution_count": null,
   "metadata": {
    "tags": []
   },
   "outputs": [],
   "source": [
    "from PIL import Image, ImageDraw, ImageFont\n",
    "from pytanis.utils import implode\n",
    "from pytanis.review import Col\n",
    "from pytanis import PretalxClient\n",
    "from pytanis.pretalx import speakers_as_df, subs_as_df\n",
    "from collections import namedtuple\n",
    "import time"
   ]
  },
  {
   "cell_type": "code",
   "execution_count": null,
   "metadata": {
    "tags": []
   },
   "outputs": [],
   "source": [
    "# taken from https://gist.github.com/digitaltembo/eb7c8a7fdef987e6689ee8de050720c4\n",
    "\n",
    "ALLIGNMENT_LEFT = 0\n",
    "ALLIGNMENT_CENTER = 1\n",
    "ALLIGNMENT_RIGHT = 2\n",
    "ALLIGNMENT_TOP = 3\n",
    "ALLIGNMENT_BOTTOM = 4\n",
    "\n",
    "\n",
    "def text_box(text, image_draw, font, box, horizontal_allignment=ALLIGNMENT_LEFT, vertical_allignment=ALLIGNMENT_TOP, **kwargs):\n",
    "    \"\"\"write text in the box by breaking down the string on multiple lines\"\"\"\n",
    "    x = box[0]\n",
    "    y = box[1]\n",
    "    width = box[2]\n",
    "    height = box[3]\n",
    "    lines = text.split('\\n')\n",
    "    true_lines = []\n",
    "    for line in lines:\n",
    "        if font.getsize(line)[0] <= width:\n",
    "            true_lines.append(line)\n",
    "        else:\n",
    "            current_line = ''\n",
    "            for word in line.split(' '):\n",
    "                if font.getsize(current_line + word)[0] <= width:\n",
    "                    current_line += ' ' + word\n",
    "                else:\n",
    "                    true_lines.append(current_line)\n",
    "                    current_line = word\n",
    "            true_lines.append(current_line)\n",
    "\n",
    "    x_offset = y_offset = 0\n",
    "    lineheight = font.getsize(true_lines[0])[1] * 1.2  # Give a margin of 0.2x the font height\n",
    "    if vertical_allignment == ALLIGNMENT_CENTER:\n",
    "        y = int(y + height / 2)\n",
    "        y_offset = - (len(true_lines) * lineheight) / 2\n",
    "    elif vertical_allignment == ALLIGNMENT_BOTTOM:\n",
    "        y = int(y + height)\n",
    "        y_offset = - (len(true_lines) * lineheight)\n",
    "\n",
    "    for line in true_lines:\n",
    "        linewidth = font.getsize(line)[0]\n",
    "        if horizontal_allignment == ALLIGNMENT_CENTER:\n",
    "            x_offset = (width - linewidth) / 2\n",
    "        elif horizontal_allignment == ALLIGNMENT_RIGHT:\n",
    "            x_offset = width - linewidth\n",
    "        image_draw.text(\n",
    "            (int(x + x_offset), int(y + y_offset)),\n",
    "            line,\n",
    "            font=font,\n",
    "            **kwargs\n",
    "        )\n",
    "        y_offset += lineheight\n",
    "\n",
    "\n",
    "def font(font_path, size=12):\n",
    "    \"\"\"load font file (*.ttf) and return an image font to write text box with text\"\"\"\n",
    "    return ImageFont.truetype(font_path, size=size, encoding=\"unic\")\n"
   ]
  },
  {
   "cell_type": "code",
   "execution_count": null,
   "metadata": {
    "tags": []
   },
   "outputs": [],
   "source": [
    "TalkInfo = namedtuple(\"talkinfo\", [\"name\", \"affiliation\", \"title\", \"key\"])\n",
    "\n",
    " # see readme inside the folder se see how to modify the template\n",
    "template_path = \"./40_talk_image/template.png\"\n",
    "font_path = \"./40_talk_image/Roboto-Regular.ttf\"\n"
   ]
  },
  {
   "cell_type": "code",
   "execution_count": null,
   "metadata": {
    "tags": []
   },
   "outputs": [],
   "source": [
    "def create_social_card(talkInfo: TalkInfo):\n",
    "    \"\"\"create soclai card from template by adding the title, authors and affilition\"\"\"\n",
    "    img = Image.open(template_path)\n",
    "    imgDraw = ImageDraw.Draw(img)\n",
    "\n",
    "    text_box(\n",
    "        text=talkInfo.title,\n",
    "        image_draw=imgDraw,\n",
    "        font=font(font_path, 40),\n",
    "        box=(80, 200, 650, 300),\n",
    "        horizontal_allignment=ALLIGNMENT_RIGHT,\n",
    "        vertical_allignment=ALLIGNMENT_CENTER,\n",
    "        fill=\"#eb9041\",\n",
    "    )\n",
    "\n",
    "    text_box(\n",
    "        text=talkInfo.name,\n",
    "        image_draw=imgDraw,\n",
    "        font=font(font_path, 20),\n",
    "        box=(80, 475, 650, 475),\n",
    "        horizontal_allignment=ALLIGNMENT_RIGHT,\n",
    "        fill=\"#000000\",\n",
    "    )\n",
    "\n",
    "    text_box(\n",
    "        text=talkInfo.affiliation,\n",
    "        image_draw=imgDraw,\n",
    "        font=font(font_path, 15),\n",
    "        box=(80, 500, 650, 500),\n",
    "        horizontal_allignment=ALLIGNMENT_RIGHT,\n",
    "        fill=\"#000000\",\n",
    "    )\n",
    "\n",
    "    text_box(\n",
    "        text=talkInfo.key,\n",
    "        image_draw=imgDraw,\n",
    "        font=font(font_path, 10),\n",
    "        box=(900, 500, 900, 500),\n",
    "        fill=\"#aaaaaa\",\n",
    "    )\n",
    "\n",
    "    return img.resize((1200, 630))\n"
   ]
  },
  {
   "cell_type": "code",
   "execution_count": null,
   "metadata": {
    "tags": []
   },
   "outputs": [],
   "source": [
    "# load speaker and submission from pretalx\n",
    "pretalx_client = PretalxClient(blocking=True)\n",
    "pkrs_count, spkrs = pretalx_client.speakers(cfg['event_name'], params={\"questions\": \"all\"})\n",
    "subs_count, subs = pretalx_client.submissions(cfg['event_name'], params={\"questions\": \"all\", \"state\": [\"confirmed\", \"accepted\"]})"
   ]
  },
  {
   "cell_type": "code",
   "execution_count": null,
   "metadata": {
    "tags": []
   },
   "outputs": [],
   "source": [
    "# create the dataframe from raw pretalx api result\n",
    "spkrs_df = speakers_as_df(spkrs, with_questions=True)\n",
    "subs_df = subs_as_df(subs, with_questions=True)\n"
   ]
  },
  {
   "cell_type": "code",
   "execution_count": null,
   "metadata": {
    "tags": []
   },
   "outputs": [],
   "source": [
    "# join submission and speakers together \n",
    "subs_df = subs_df.explode([Col.speaker_code, Col.speaker_name])\n",
    "subs_df = pd.merge(subs_df, spkrs_df.drop(columns=[Col.speaker_name, Col.submission]), on=Col.speaker_code)\n",
    "subs_df = implode(subs_df, [col for col in spkrs_df if col not in [Col.submission]])\n"
   ]
  },
  {
   "cell_type": "code",
   "execution_count": null,
   "metadata": {
    "tags": []
   },
   "outputs": [],
   "source": [
    "# create all the social cards for all the talks and write them in 40_talk_image/output/ folder\n",
    "for _, submission in subs_df.iterrows():\n",
    "    # get all speakers from a talk togethers\n",
    "    names = \" & \".join(submission[\"Speaker name\"])\n",
    "    # we only want the affiliation if it is not nan\n",
    "    affiliation_list = submission[\"Q: Company / Institute\"]\n",
    "    affiliation = \" \" if np.nan in affiliation_list else \" & \".join(affiliation_list)\n",
    "    affiliation = affiliation.replace(\"\\n\", \"\")\n",
    "    # other attributes where no preprocessing is needed\n",
    "    title = submission[\"Title\"]\n",
    "    key = submission[\"Submission\"]\n",
    "    talkInfo = TalkInfo(\n",
    "        name=names,\n",
    "        affiliation=affiliation,\n",
    "        title=submission[\"Title\"],\n",
    "        key=key,\n",
    "    )\n",
    "    img = create_social_card(talkInfo)\n",
    "    img.save(f\"40_talk_image/output/{key}.png\")\n",
    "    \n",
    "    # small break between 2 image to not overwhelm old laptop\n",
    "    time.sleep(0.1)\n"
   ]
  },
  {
   "cell_type": "code",
   "execution_count": null,
   "metadata": {},
   "outputs": [],
   "source": [
    "# all done! You just need to copy the output folder in ./notebooks/40_talk_image/output into the wwww repo, under website/assets/static/media/twitter"
   ]
  },
  {
   "cell_type": "code",
   "execution_count": null,
   "metadata": {
    "tags": []
   },
   "outputs": [],
   "source": [
    "# Display an example of what was created above.\n",
    "from IPython.display import Image\n",
    "Image(\"40_talk_image/output/TP7ABB.png\")"
   ]
  },
  {
   "cell_type": "code",
   "execution_count": null,
   "metadata": {},
   "outputs": [],
   "source": []
  }
 ],
 "metadata": {
  "kernelspec": {
   "display_name": "Python 3 (ipykernel)",
   "language": "python",
   "name": "python3"
  },
  "language_info": {
   "codemirror_mode": {
    "name": "ipython",
    "version": 3
   },
   "file_extension": ".py",
   "mimetype": "text/x-python",
   "name": "python",
   "nbconvert_exporter": "python",
   "pygments_lexer": "ipython3",
   "version": "3.10.6"
  },
  "pycharm": {
   "stem_cell": {
    "cell_type": "raw",
    "metadata": {
     "collapsed": false
    },
    "source": []
   }
  },
  "vscode": {
   "interpreter": {
    "hash": "d20f902c957fc945735600fb19ec53101eb463131ae188e0e26c10901e481da4"
   }
  }
 },
 "nbformat": 4,
 "nbformat_minor": 4
}
