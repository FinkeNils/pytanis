{
 "cells": [
  {
   "cell_type": "code",
   "execution_count": null,
   "metadata": {
    "tags": []
   },
   "outputs": [],
   "source": [
    "import sys\n",
    "import logging\n",
    "import tomli\n",
    "import pandas as pd\n",
    "\n",
    "import pytanis\n",
    "from pytanis import GSheetsClient, PretalxClient\n",
    "from pytanis.google import Scope, gsheet_rows_for_fmt, worksheet_range\n",
    "from pytanis.pretalx import subs_as_df, reviews_as_df, speakers_as_df\n",
    "from pytanis.utils import implode\n"
   ]
  },
  {
   "cell_type": "code",
   "execution_count": null,
   "metadata": {
    "tags": []
   },
   "outputs": [],
   "source": [
    "# Be aware that this notebook might only run with the following version\n",
    "pytanis.__version__ "
   ]
  },
  {
   "cell_type": "code",
   "execution_count": null,
   "metadata": {
    "tags": []
   },
   "outputs": [],
   "source": [
    "# Import event-specific settings to don't have them here in the notebook\n",
    "with open('config.toml', 'rb') as fh:\n",
    "    cfg = tomli.load(fh)\n"
   ]
  },
  {
   "cell_type": "markdown",
   "metadata": {
    "tags": []
   },
   "source": [
    "## Retrieve the talks"
   ]
  },
  {
   "cell_type": "code",
   "execution_count": null,
   "metadata": {
    "tags": []
   },
   "outputs": [],
   "source": [
    "pretalx_client = PretalxClient(blocking=True)\n",
    "talks_count, talks = pretalx_client.submissions(cfg['event_name'], params={\"questions\": \"all\", \"state\": [\"confirmed\"]})\n",
    "talks = list(talks)"
   ]
  },
  {
   "cell_type": "code",
   "execution_count": null,
   "metadata": {
    "tags": []
   },
   "outputs": [],
   "source": [
    "def to_pdf(subs):\n",
    "    rows = []\n",
    "    for sub in subs:\n",
    "        if not sub.slot:\n",
    "            print(\"Not scheduled?\")\n",
    "            print(sub.speakers, sub.title, sub.code)\n",
    "            continue\n",
    "        row = {\n",
    "            \"Submission\": sub.code,\n",
    "            \"Speaker\": \", \".join([speaker.name for speaker in sub.speakers]),\n",
    "            \"Day\": f\"{sub.slot.start.day}\",\n",
    "            \"Time\": f\"{sub.slot.start.time()}-{sub.slot.end.time()}\",\n",
    "            \"Room\": sub.slot.room.en,\n",
    "            \"Duration\": sub.duration,\n",
    "            \"Track\": sub.track.en if sub.track else None,\n",
    "            \"Title\": sub.title,\n",
    "            \"URL\": f\"https://pretalx.com/pyconde-pydata-berlin-2023/talk/{sub.code}/\"\n",
    "        }\n",
    "        rows.append(row)\n",
    "    return pd.DataFrame(rows)"
   ]
  },
  {
   "cell_type": "code",
   "execution_count": null,
   "metadata": {
    "tags": []
   },
   "outputs": [],
   "source": [
    "df = to_pdf(talks)"
   ]
  },
  {
   "cell_type": "code",
   "execution_count": null,
   "metadata": {
    "tags": []
   },
   "outputs": [],
   "source": [
    "rooms = list(df['Room'].unique())\n",
    "rooms"
   ]
  },
  {
   "cell_type": "code",
   "execution_count": null,
   "metadata": {
    "tags": []
   },
   "outputs": [],
   "source": [
    "columns_list = [\"Day\", \"Time\", \"Speaker\", \"Title\", \"Duration\", \"Submission\", \"URL\"]"
   ]
  },
  {
   "cell_type": "markdown",
   "metadata": {},
   "source": [
    "## Upload to GSheet"
   ]
  },
  {
   "cell_type": "code",
   "execution_count": null,
   "metadata": {
    "tags": []
   },
   "outputs": [],
   "source": [
    "gsheet_client = GSheetsClient(read_only=False)"
   ]
  },
  {
   "cell_type": "code",
   "execution_count": null,
   "metadata": {
    "tags": []
   },
   "outputs": [],
   "source": [
    "for room in rooms:\n",
    "    gsheet_client.save_df_as_gsheet(df[df['Room']==room][columns_list].sort_values(by=['Day', 'Time']), cfg['schedule_spread_id'], room, create_ws=True)"
   ]
  },
  {
   "cell_type": "code",
   "execution_count": null,
   "metadata": {},
   "outputs": [],
   "source": []
  }
 ],
 "metadata": {
  "kernelspec": {
   "display_name": "Python 3 (ipykernel)",
   "language": "python",
   "name": "python3"
  },
  "language_info": {
   "codemirror_mode": {
    "name": "ipython",
    "version": 3
   },
   "file_extension": ".py",
   "mimetype": "text/x-python",
   "name": "python",
   "nbconvert_exporter": "python",
   "pygments_lexer": "ipython3",
   "version": "3.10.10"
  },
  "pycharm": {
   "stem_cell": {
    "cell_type": "raw",
    "metadata": {
     "collapsed": false
    },
    "source": []
   }
  }
 },
 "nbformat": 4,
 "nbformat_minor": 4
}
